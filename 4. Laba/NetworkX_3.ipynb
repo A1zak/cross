{
 "cells": [
  {
   "cell_type": "markdown",
   "metadata": {},
   "source": [
    "# Домашнее задание по библиотеке NetworkX"
   ]
  },
  {
   "cell_type": "code",
   "execution_count": 5,
   "metadata": {},
   "outputs": [],
   "source": [
    "import networkx as nx\n",
    "\n",
    "import numpy as np\n",
    "import pandas as pd\n",
    "\n",
    "import matplotlib.pyplot as plt\n",
    "%matplotlib inline"
   ]
  },
  {
   "cell_type": "markdown",
   "metadata": {},
   "source": [
    "## Задание 1 (1 балл)\n",
    "Создайте граф и добавьте в него $5$ вершин с городами России, у каждой должен быть атрибут (характеристика) `time_diff`, означающий временную разницу с Москвой в часах."
   ]
  },
  {
   "cell_type": "code",
   "execution_count": 6,
   "metadata": {},
   "outputs": [],
   "source": [
    "g = nx.Graph()\n",
    "\n",
    "g.add_node('Moscow', diff = '3')\n",
    "g.add_node('Vladivostok', diff = '0')\n",
    "g.add_node('Minsk', diff = '2')\n",
    "g.add_node('Arhangelsk', diff = '1')\n",
    "g.add_node('Kaliningrad', diff = '2')"
   ]
  },
  {
   "cell_type": "markdown",
   "metadata": {},
   "source": [
    "# Задание 2 (1 балл)\n",
    "Выберите какую-нибудь конкретную авиакомпанию (Аэрофлот, S7, Utair, etc).\n",
    "\n",
    "В созданный граф добавьте рёбра между выбранными $5$ю городами, между которыми есть авиарейсы данной компании. У каждого ребра должны быть следующие атрибуты:\n",
    "- расстояние между городами в километрах `distance`\n",
    "- время перелёта в минутах `time`\n",
    "\n",
    "При желании можно добавить в граф также несколько городов, являющихся пересадочными пунктами."
   ]
  },
  {
   "cell_type": "code",
   "execution_count": 7,
   "metadata": {},
   "outputs": [],
   "source": [
    "g.add_edge('Moscow', 'Vladivostok', distance = 9064, time = 115)\n",
    "g.add_edge('Vladivostok', 'Minsk', distance = 9976, time = 320)\n",
    "g.add_edge('Minsk', 'Moscow', distance = 717, time = 265)\n",
    "g.add_edge('Arhangelsk', 'Kaliningrad', distance = 3450, time = 450)\n",
    "g.add_edge('Kaliningrad', 'Moscow', distance = 1258, time = 452)"
   ]
  },
  {
   "cell_type": "markdown",
   "metadata": {},
   "source": [
    "## Задание 3 (1 балл)\n",
    "Выберите любую пару городов и постройте между ними следующие кратчайшие пути:\n",
    "- без взвешивания\n",
    "- со взвешиванием по расстоянию\n",
    "- со взвешиванием по времени"
   ]
  },
  {
   "cell_type": "code",
   "execution_count": 10,
   "metadata": {},
   "outputs": [
    {
     "name": "stdout",
     "output_type": "stream",
     "text": [
      "Без взвешивания:\n",
      "['Vladivostok', 'Minsk']\n",
      "С взвешиванием по расстоянию\n",
      "['Vladivostok', 'Moscow', 'Minsk']\n",
      "С взвешиванием по времени\n",
      "['Vladivostok', 'Minsk']\n"
     ]
    },
    {
     "data": {
      "image/png": "[encoded data removed]",
      "text/plain": [
       "<Figure size 432x288 with 1 Axes>"
      ]
     },
     "metadata": {},
     "output_type": "display_data"
    }
   ],
   "source": [
    "print('Без взвешивания:')\n",
    "print(nx.shortest_path(g, 'Vladivostok', 'Minsk'))\n",
    "print('С взвешиванием по расстоянию')\n",
    "print(nx.shortest_path(g, 'Vladivostok', 'Minsk', weight = 'distance'))\n",
    "print('С взвешиванием по времени')\n",
    "print(nx.shortest_path(g, 'Vladivostok', 'Minsk', weight = 'time'))\n",
    "nx.draw_networkx(g, node_color='lightblue')"
   ]
  },
  {
   "cell_type": "markdown",
   "metadata": {},
   "source": [
    "Поясните полученные результаты."
   ]
  },
  {
   "cell_type": "code",
   "execution_count": null,
   "metadata": {},
   "outputs": [],
   "source": []
  }
 ],
 "metadata": {
  "kernelspec": {
   "display_name": "Python 3",
   "language": "python",
   "name": "python3"
  },
  "language_info": {
   "codemirror_mode": {
    "name": "ipython",
    "version": 3
   },
   "file_extension": ".py",
   "mimetype": "text/x-python",
   "name": "python",
   "nbconvert_exporter": "python",
   "pygments_lexer": "ipython3",
   "version": "3.8.3"
  }
 },
 "nbformat": 4,
 "nbformat_minor": 2
}
